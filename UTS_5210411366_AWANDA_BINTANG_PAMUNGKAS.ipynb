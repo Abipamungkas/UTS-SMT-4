{
  "nbformat": 4,
  "nbformat_minor": 0,
  "metadata": {
    "colab": {
      "provenance": []
    },
    "kernelspec": {
      "name": "python3",
      "display_name": "Python 3"
    },
    "language_info": {
      "name": "python"
    }
  },
  "cells": [
    {
      "cell_type": "markdown",
      "source": [
        "UTS_5210411366_AWANDA BINTANG PAMUNGKAS"
      ],
      "metadata": {
        "id": "9PjzpzFma0wW"
      }
    },
    {
      "cell_type": "code",
      "execution_count": null,
      "metadata": {
        "id": "4L49TzXW1VBi"
      },
      "outputs": [],
      "source": [
        "# IMPORT LIBRARY YG DIBUTUHKAN\n",
        "import pandas as pd\n",
        "import numpy as np\n",
        "import matplotlib.pyplot as plt\n",
        "import warnings\n",
        "from sklearn import metrics\n",
        "import seaborn as sns\n",
        "from collections import Counter\n",
        "warnings.filterwarnings(\"ignore\")\n",
        "%matplotlib inline"
      ]
    },
    {
      "cell_type": "code",
      "source": [
        "# READ FILE DATASET\n",
        "df = pd.read_(\"data_uts.xlsx\")\n",
        "\n",
        "# TO SHOW DATA\n",
        "print(df)"
      ],
      "metadata": {
        "colab": {
          "base_uri": "https://localhost:8080/"
        },
        "id": "ZSTwtgfU1Ycj",
        "outputId": "fa3ddcf9-cc13-4beb-b90b-091fe9b37883"
      },
      "execution_count": null,
      "outputs": [
        {
          "output_type": "stream",
          "name": "stdout",
          "text": [
            "    Gender   Age  Annual Salary Purchased\n",
            "0     Male  35.0        20000.0        NO\n",
            "1     Male  40.0        43500.0        NO\n",
            "2     Male  49.0        74000.0        NO\n",
            "3     Male  40.0       107500.0       YES\n",
            "4     Male  25.0        79000.0        NO\n",
            "5   Female  47.0        33500.0        NO\n",
            "6      NaN  46.0       132500.0       YES\n",
            "7     Male  42.0            NaN       YES\n",
            "8   Female  30.0        84500.0        NO\n",
            "9     Male   NaN        52000.0        NO\n",
            "10    Male  42.0        80000.0        NO\n",
            "11    Male  47.0        23000.0       NaN\n",
            "12  Female  32.0        72500.0        NO\n",
            "13     NaN  27.0        57000.0        NO\n",
            "14  Female  42.0       108000.0       YES\n",
            "15  Female   NaN       149000.0       YES\n",
            "16    Male  35.0        75000.0        NO\n",
            "17    Male  35.0            NaN        NO\n",
            "18    Male  46.0        79000.0       YES\n",
            "19  Female  39.0       134000.0        NO\n"
          ]
        }
      ]
    },
    {
      "cell_type": "code",
      "source": [
        "# CEK MISSING VALUE\n",
        "\n",
        "df.isnull().values.any()"
      ],
      "metadata": {
        "colab": {
          "base_uri": "https://localhost:8080/"
        },
        "id": "D_pLnOeB1mFO",
        "outputId": "9c64360a-5f0b-424d-d8f9-f9555c95c163"
      },
      "execution_count": null,
      "outputs": [
        {
          "output_type": "execute_result",
          "data": {
            "text/plain": [
              "True"
            ]
          },
          "metadata": {},
          "execution_count": 5
        }
      ]
    },
    {
      "cell_type": "code",
      "source": [
        "# CEK JUMLAH MISSING VALUE\n",
        "\n",
        "df.isnull().sum().sum()"
      ],
      "metadata": {
        "colab": {
          "base_uri": "https://localhost:8080/"
        },
        "id": "iJ-78SEoBvvO",
        "outputId": "83ee6e80-4f1a-43d9-e98b-468699d4edff"
      },
      "execution_count": null,
      "outputs": [
        {
          "output_type": "execute_result",
          "data": {
            "text/plain": [
              "7"
            ]
          },
          "metadata": {},
          "execution_count": 6
        }
      ]
    },
    {
      "cell_type": "code",
      "source": [
        "# CEK MISSING VALUE PADA KOLOM GENDER\n",
        "\n",
        "df['Gender']"
      ],
      "metadata": {
        "colab": {
          "base_uri": "https://localhost:8080/"
        },
        "id": "WIQoMuvBB1oV",
        "outputId": "0dae6319-ada1-4f5e-e70e-60bb5a6f6256"
      },
      "execution_count": null,
      "outputs": [
        {
          "output_type": "execute_result",
          "data": {
            "text/plain": [
              "0       Male\n",
              "1       Male\n",
              "2       Male\n",
              "3       Male\n",
              "4       Male\n",
              "5     Female\n",
              "6        NaN\n",
              "7       Male\n",
              "8     Female\n",
              "9       Male\n",
              "10      Male\n",
              "11      Male\n",
              "12    Female\n",
              "13       NaN\n",
              "14    Female\n",
              "15    Female\n",
              "16      Male\n",
              "17      Male\n",
              "18      Male\n",
              "19    Female\n",
              "Name: Gender, dtype: object"
            ]
          },
          "metadata": {},
          "execution_count": 7
        }
      ]
    },
    {
      "cell_type": "code",
      "source": [
        "df['Gender'].isnull()"
      ],
      "metadata": {
        "colab": {
          "base_uri": "https://localhost:8080/"
        },
        "id": "vCKnhz0gCH0T",
        "outputId": "cd93e73c-7df4-4e67-c146-3c3c1519c965"
      },
      "execution_count": null,
      "outputs": [
        {
          "output_type": "execute_result",
          "data": {
            "text/plain": [
              "0     False\n",
              "1     False\n",
              "2     False\n",
              "3     False\n",
              "4     False\n",
              "5     False\n",
              "6      True\n",
              "7     False\n",
              "8     False\n",
              "9     False\n",
              "10    False\n",
              "11    False\n",
              "12    False\n",
              "13     True\n",
              "14    False\n",
              "15    False\n",
              "16    False\n",
              "17    False\n",
              "18    False\n",
              "19    False\n",
              "Name: Gender, dtype: bool"
            ]
          },
          "metadata": {},
          "execution_count": 8
        }
      ]
    },
    {
      "cell_type": "code",
      "source": [
        "# CEK MISSING VALUE PADA KOLOM AGE\n",
        "\n",
        "df['Age']"
      ],
      "metadata": {
        "colab": {
          "base_uri": "https://localhost:8080/"
        },
        "id": "_tg1X_a6DAuZ",
        "outputId": "110d0bff-7bfe-438f-c7c0-ff0d4e09af1e"
      },
      "execution_count": null,
      "outputs": [
        {
          "output_type": "execute_result",
          "data": {
            "text/plain": [
              "0     35.0\n",
              "1     40.0\n",
              "2     49.0\n",
              "3     40.0\n",
              "4     25.0\n",
              "5     47.0\n",
              "6     46.0\n",
              "7     42.0\n",
              "8     30.0\n",
              "9      NaN\n",
              "10    42.0\n",
              "11    47.0\n",
              "12    32.0\n",
              "13    27.0\n",
              "14    42.0\n",
              "15     NaN\n",
              "16    35.0\n",
              "17    35.0\n",
              "18    46.0\n",
              "19    39.0\n",
              "Name: Age, dtype: float64"
            ]
          },
          "metadata": {},
          "execution_count": 10
        }
      ]
    },
    {
      "cell_type": "code",
      "source": [
        "df['Age'].isnull()"
      ],
      "metadata": {
        "colab": {
          "base_uri": "https://localhost:8080/"
        },
        "id": "5OXa9xoPDGw2",
        "outputId": "531ddc4c-fc61-42c6-f2f2-e245d9aa6f6d"
      },
      "execution_count": null,
      "outputs": [
        {
          "output_type": "execute_result",
          "data": {
            "text/plain": [
              "0     False\n",
              "1     False\n",
              "2     False\n",
              "3     False\n",
              "4     False\n",
              "5     False\n",
              "6     False\n",
              "7     False\n",
              "8     False\n",
              "9      True\n",
              "10    False\n",
              "11    False\n",
              "12    False\n",
              "13    False\n",
              "14    False\n",
              "15     True\n",
              "16    False\n",
              "17    False\n",
              "18    False\n",
              "19    False\n",
              "Name: Age, dtype: bool"
            ]
          },
          "metadata": {},
          "execution_count": 11
        }
      ]
    },
    {
      "cell_type": "code",
      "source": [
        "# MENGECEK MISSING VALUE PADA KOLOM ANNUAL SALARY\n",
        "\n",
        "df['Annual Salary']"
      ],
      "metadata": {
        "colab": {
          "base_uri": "https://localhost:8080/"
        },
        "id": "kHfBVKh4DR16",
        "outputId": "877dd17a-57d1-4f21-dd1c-28fe33919a8e"
      },
      "execution_count": null,
      "outputs": [
        {
          "output_type": "execute_result",
          "data": {
            "text/plain": [
              "0      20000.0\n",
              "1      43500.0\n",
              "2      74000.0\n",
              "3     107500.0\n",
              "4      79000.0\n",
              "5      33500.0\n",
              "6     132500.0\n",
              "7          NaN\n",
              "8      84500.0\n",
              "9      52000.0\n",
              "10     80000.0\n",
              "11     23000.0\n",
              "12     72500.0\n",
              "13     57000.0\n",
              "14    108000.0\n",
              "15    149000.0\n",
              "16     75000.0\n",
              "17         NaN\n",
              "18     79000.0\n",
              "19    134000.0\n",
              "Name: Annual Salary, dtype: float64"
            ]
          },
          "metadata": {},
          "execution_count": 13
        }
      ]
    },
    {
      "cell_type": "code",
      "source": [
        "df['Annual Salary'].isnull()"
      ],
      "metadata": {
        "colab": {
          "base_uri": "https://localhost:8080/"
        },
        "id": "Iaxv1wOyDc42",
        "outputId": "d87aa6ee-8141-40a0-dc55-cf6bbfa4692c"
      },
      "execution_count": null,
      "outputs": [
        {
          "output_type": "execute_result",
          "data": {
            "text/plain": [
              "0     False\n",
              "1     False\n",
              "2     False\n",
              "3     False\n",
              "4     False\n",
              "5     False\n",
              "6     False\n",
              "7      True\n",
              "8     False\n",
              "9     False\n",
              "10    False\n",
              "11    False\n",
              "12    False\n",
              "13    False\n",
              "14    False\n",
              "15    False\n",
              "16    False\n",
              "17     True\n",
              "18    False\n",
              "19    False\n",
              "Name: Annual Salary, dtype: bool"
            ]
          },
          "metadata": {},
          "execution_count": 14
        }
      ]
    },
    {
      "cell_type": "code",
      "source": [
        "# MENGECEK MISSING VALUE PADA KOLOM PURCHASED\n",
        "\n",
        "df['Purchased']"
      ],
      "metadata": {
        "colab": {
          "base_uri": "https://localhost:8080/"
        },
        "id": "SJWeD3OUDlD_",
        "outputId": "3945274a-efc3-4fa7-ec29-3733628662eb"
      },
      "execution_count": null,
      "outputs": [
        {
          "output_type": "execute_result",
          "data": {
            "text/plain": [
              "0      NO\n",
              "1      NO\n",
              "2      NO\n",
              "3     YES\n",
              "4      NO\n",
              "5      NO\n",
              "6     YES\n",
              "7     YES\n",
              "8      NO\n",
              "9      NO\n",
              "10     NO\n",
              "11    NaN\n",
              "12     NO\n",
              "13     NO\n",
              "14    YES\n",
              "15    YES\n",
              "16     NO\n",
              "17     NO\n",
              "18    YES\n",
              "19     NO\n",
              "Name: Purchased, dtype: object"
            ]
          },
          "metadata": {},
          "execution_count": 15
        }
      ]
    },
    {
      "cell_type": "code",
      "source": [
        "df['Purchased'].isnull()"
      ],
      "metadata": {
        "colab": {
          "base_uri": "https://localhost:8080/"
        },
        "id": "t1hIvCvKDsQX",
        "outputId": "11e49a14-c531-4129-814a-b1a1e0de81be"
      },
      "execution_count": null,
      "outputs": [
        {
          "output_type": "execute_result",
          "data": {
            "text/plain": [
              "0     False\n",
              "1     False\n",
              "2     False\n",
              "3     False\n",
              "4     False\n",
              "5     False\n",
              "6     False\n",
              "7     False\n",
              "8     False\n",
              "9     False\n",
              "10    False\n",
              "11     True\n",
              "12    False\n",
              "13    False\n",
              "14    False\n",
              "15    False\n",
              "16    False\n",
              "17    False\n",
              "18    False\n",
              "19    False\n",
              "Name: Purchased, dtype: bool"
            ]
          },
          "metadata": {},
          "execution_count": 16
        }
      ]
    },
    {
      "cell_type": "code",
      "source": [
        "# HITUNG KEMBALI TOTAL MISSING VALUE PADA SETIAP KOLOM\n",
        "\n",
        "df.isnull().sum()"
      ],
      "metadata": {
        "colab": {
          "base_uri": "https://localhost:8080/"
        },
        "id": "XXWTkvsaDvlw",
        "outputId": "2e91425f-78d2-4c78-c7cb-d7e67056eef1"
      },
      "execution_count": null,
      "outputs": [
        {
          "output_type": "execute_result",
          "data": {
            "text/plain": [
              "Gender           2\n",
              "Age              2\n",
              "Annual Salary    2\n",
              "Purchased        1\n",
              "dtype: int64"
            ]
          },
          "metadata": {},
          "execution_count": 19
        }
      ]
    },
    {
      "cell_type": "code",
      "source": [
        "# BANYAKNYA MISSING VALUES\n",
        "\n",
        "df.isnull().sum().sum()"
      ],
      "metadata": {
        "colab": {
          "base_uri": "https://localhost:8080/"
        },
        "id": "LxdE6MGSWSLf",
        "outputId": "e3a5fbf9-c528-446d-b1fa-5dc1f2eae60a"
      },
      "execution_count": null,
      "outputs": [
        {
          "output_type": "execute_result",
          "data": {
            "text/plain": [
              "7"
            ]
          },
          "metadata": {},
          "execution_count": 20
        }
      ]
    },
    {
      "cell_type": "code",
      "source": [
        "# MENGGANTI MISSING VALUES DENGAN SEBUAH OBJECT\n",
        "\n",
        "df.loc[13, 'Gender'] = \"Female\"\n",
        "print(df.Gender)\n"
      ],
      "metadata": {
        "colab": {
          "base_uri": "https://localhost:8080/"
        },
        "id": "uNIaNNdGD6jH",
        "outputId": "13629a8d-cf1c-40ca-db6b-594dd0e27898"
      },
      "execution_count": null,
      "outputs": [
        {
          "output_type": "stream",
          "name": "stdout",
          "text": [
            "0       Male\n",
            "1       Male\n",
            "2       Male\n",
            "3       Male\n",
            "4       Male\n",
            "5     Female\n",
            "6     Female\n",
            "7       Male\n",
            "8     Female\n",
            "9       Male\n",
            "10      Male\n",
            "11      Male\n",
            "12    Female\n",
            "13    Female\n",
            "14    Female\n",
            "15    Female\n",
            "16      Male\n",
            "17      Male\n",
            "18      Male\n",
            "19    Female\n",
            "Name: Gender, dtype: object\n"
          ]
        }
      ]
    },
    {
      "cell_type": "code",
      "source": [
        "# MENGGANTI MISSING VALUES DENGAN SEBUAH FLOAT\n",
        "\n",
        "df.loc[15, 'Age'] = 20\n",
        "print(df.Age)\n"
      ],
      "metadata": {
        "colab": {
          "base_uri": "https://localhost:8080/"
        },
        "id": "hCO7D9JEWcDt",
        "outputId": "2b0124d0-f449-4a4e-9c06-7e19dccb26cb"
      },
      "execution_count": null,
      "outputs": [
        {
          "output_type": "stream",
          "name": "stdout",
          "text": [
            "0     35.0\n",
            "1     40.0\n",
            "2     49.0\n",
            "3     40.0\n",
            "4     25.0\n",
            "5     47.0\n",
            "6     46.0\n",
            "7     42.0\n",
            "8     30.0\n",
            "9     20.0\n",
            "10    42.0\n",
            "11    47.0\n",
            "12    32.0\n",
            "13    27.0\n",
            "14    42.0\n",
            "15    20.0\n",
            "16    35.0\n",
            "17    35.0\n",
            "18    46.0\n",
            "19    39.0\n",
            "Name: Age, dtype: float64\n"
          ]
        }
      ]
    },
    {
      "cell_type": "code",
      "source": [
        "# MENGGANTI MISSING VALUES DENGAN SEBUAH FLOAT\n",
        "\n",
        "df.loc[17, 'AnnualSalary'] = 50000\n",
        "print(df.AnnualSalary)"
      ],
      "metadata": {
        "colab": {
          "base_uri": "https://localhost:8080/"
        },
        "id": "4Veim0uuW33a",
        "outputId": "56cf2e63-5eaa-461d-d8d3-fbb295987b1e"
      },
      "execution_count": null,
      "outputs": [
        {
          "output_type": "stream",
          "name": "stdout",
          "text": [
            "0         NaN\n",
            "1         NaN\n",
            "2         NaN\n",
            "3         NaN\n",
            "4         NaN\n",
            "5         NaN\n",
            "6         NaN\n",
            "7     50000.0\n",
            "8         NaN\n",
            "9         NaN\n",
            "10        NaN\n",
            "11        NaN\n",
            "12        NaN\n",
            "13        NaN\n",
            "14        NaN\n",
            "15        NaN\n",
            "16        NaN\n",
            "17    50000.0\n",
            "18        NaN\n",
            "19        NaN\n",
            "Name: AnnualSalary, dtype: float64\n"
          ]
        }
      ]
    },
    {
      "cell_type": "code",
      "source": [
        "df['Annual Salary']"
      ],
      "metadata": {
        "colab": {
          "base_uri": "https://localhost:8080/"
        },
        "id": "wksqaEP9XJiZ",
        "outputId": "dbf3d57c-56da-45ec-a5ae-abd9747c3f2b"
      },
      "execution_count": null,
      "outputs": [
        {
          "output_type": "execute_result",
          "data": {
            "text/plain": [
              "0      20000.0\n",
              "1      43500.0\n",
              "2      74000.0\n",
              "3     107500.0\n",
              "4      79000.0\n",
              "5      33500.0\n",
              "6     132500.0\n",
              "7      50000.0\n",
              "8      84500.0\n",
              "9      52000.0\n",
              "10     80000.0\n",
              "11     23000.0\n",
              "12     72500.0\n",
              "13     57000.0\n",
              "14    108000.0\n",
              "15    149000.0\n",
              "16     75000.0\n",
              "17     50000.0\n",
              "18     79000.0\n",
              "19    134000.0\n",
              "Name: Annual Salary, dtype: float64"
            ]
          },
          "metadata": {},
          "execution_count": 45
        }
      ]
    },
    {
      "cell_type": "code",
      "source": [
        "# MENGGANTI MISSING VALUES DENGAN SEBUAH OBJECT\n",
        "\n",
        "df.loc[11, 'Purchased'] = \"YES\"\n",
        "print(df.Purchased)"
      ],
      "metadata": {
        "colab": {
          "base_uri": "https://localhost:8080/"
        },
        "id": "WqocqBP5ZtDA",
        "outputId": "18c6234e-0e1b-4565-9e95-74608a905570"
      },
      "execution_count": null,
      "outputs": [
        {
          "output_type": "stream",
          "name": "stdout",
          "text": [
            "0      NO\n",
            "1      NO\n",
            "2      NO\n",
            "3     YES\n",
            "4      NO\n",
            "5      NO\n",
            "6     YES\n",
            "7     YES\n",
            "8      NO\n",
            "9      NO\n",
            "10     NO\n",
            "11    YES\n",
            "12     NO\n",
            "13     NO\n",
            "14    YES\n",
            "15    YES\n",
            "16     NO\n",
            "17     NO\n",
            "18    YES\n",
            "19     NO\n",
            "Name: Purchased, dtype: object\n"
          ]
        }
      ]
    },
    {
      "cell_type": "markdown",
      "source": [
        "1.3\n",
        "\n",
        "# MEMBUAT TABLE"
      ],
      "metadata": {
        "id": "B2Uh-J8adkJ-"
      }
    },
    {
      "cell_type": "code",
      "source": [
        "# IMPORT LIBRARIES\n",
        "import numpy as np\n",
        "import matplotlib.pyplot as plt\n",
        "\n",
        "\n",
        "# DATASET\n",
        "Gender = ['MALE', 'FEMALE']\n",
        "\n",
        "data = [12, 8]\n",
        "\n",
        "\n",
        "# EXPLOTE DATA\n",
        "explode = (0.1, 0.0)\n",
        "\n",
        "# COLORS PARAMATERS\n",
        "colors = ( \"orange\", \"cyan\")\n",
        "\n",
        "# WEDGE PROPERTIES\n",
        "wp = { 'linewidth' : 1, 'edgecolor' : \"green\" }\n",
        "\n",
        "# AUTOCPT ARGUMENTS\n",
        "def func(pct, allvalues):\n",
        "\tabsolute = int(pct / 100.*np.sum(allvalues))\n",
        "\treturn \"{:.1f}%\\n({:d} g)\".format(pct, absolute)\n",
        "\n",
        "# MEMBUAT PLOT\n",
        "fig, ax = plt.subplots(figsize =(10, 7))\n",
        "wedges, texts, autotexts = ax.pie(data,\n",
        "\t\t\t\t\t\t\t\tautopct = lambda pct: func(pct, data),\n",
        "\t\t\t\t\t\t\t\texplode = explode,\n",
        "\t\t\t\t\t\t\t\tlabels = Gender,\n",
        "\t\t\t\t\t\t\t\tshadow = True,\n",
        "\t\t\t\t\t\t\t\tcolors = colors,\n",
        "\t\t\t\t\t\t\t\tstartangle = 90,\n",
        "\t\t\t\t\t\t\t\twedgeprops = wp,\n",
        "\t\t\t\t\t\t\t\ttextprops = dict(color =\"magenta\"))\n",
        "\n",
        "# ADDING LEGEND\n",
        "ax.legend(wedges, Gender,\n",
        "\t\ttitle =\"Gender\",\n",
        "\t\tloc =\"center left\",\n",
        "\t\tbbox_to_anchor =(1, 0, 0.5, 1))\n",
        "\n",
        "plt.setp(autotexts, size = 8, weight =\"bold\")\n",
        "ax.set_title(\"GENDERS PIE CHART\")\n",
        "\n",
        "# SHOW\n",
        "plt.show()\n"
      ],
      "metadata": {
        "colab": {
          "base_uri": "https://localhost:8080/",
          "height": 598
        },
        "id": "3MUQMwwAjz-S",
        "outputId": "b5840bb2-678a-4e1b-b2ce-721c653ade9e"
      },
      "execution_count": null,
      "outputs": [
        {
          "output_type": "display_data",
          "data": {
            "text/plain": [
              "<Figure size 1000x700 with 1 Axes>"
            ],
            "image/png": "[encoded data removed]"
          },
          "metadata": {}
        }
      ]
    },
    {
      "cell_type": "markdown",
      "source": [
        "PENJELASAN : Kolom \"Gender\": Diagram pie atau bar chart dapat digunakan untuk memvisualisasikan proporsi atau jumlah individu berdasarkan jenis kelamin. Pie chart cocok jika hanya ada dua jenis kelamin yang terlibat, sementara bar chart lebih cocok jika lebih dari dua jenis kelamin yang terlibat."
      ],
      "metadata": {
        "id": "JYb-yeHEl6Lv"
      }
    },
    {
      "cell_type": "code",
      "source": [
        "from matplotlib import pyplot as plt\n",
        "import numpy as np\n",
        "\n",
        "\n",
        "# MEMBUAT DATASET\n",
        "a = np.array([20, 25, 27, 30, 32,\n",
        "\t\t\t35, 39, 40, 42,\n",
        "\t\t\t46, 47, 49])\n",
        "\n",
        "# MEMBUAT TABLE DIAGRAM HISTOGRAM\n",
        "fig, ax = plt.subplots(figsize =(10, 7))\n",
        "ax.hist(a, bins = [0, 25, 50, 75, 100])\n",
        "\n",
        "# SHOW\n",
        "plt.show()\n"
      ],
      "metadata": {
        "colab": {
          "base_uri": "https://localhost:8080/",
          "height": 599
        },
        "id": "Z6LEkyvol-Cb",
        "outputId": "77ecebe1-daa7-41a3-bb7a-2c516e966ab4"
      },
      "execution_count": null,
      "outputs": [
        {
          "output_type": "display_data",
          "data": {
            "text/plain": [
              "<Figure size 1000x700 with 1 Axes>"
            ],
            "image/png": "[encoded data removed]"
          },
          "metadata": {}
        }
      ]
    },
    {
      "cell_type": "markdown",
      "source": [
        "**Kolom \"Age\": Histogram atau box plot dapat digunakan untuk memvisualisasikan distribusi usia dalam dataset. Histogram cocok untuk melihat frekuensi usia dalam interval tertentu, sementara box plot cocok untuk melihat kuartil, rentang, dan outlier dalam distribusi usia.**"
      ],
      "metadata": {
        "id": "Fh0gKkM6HAec"
      }
    },
    {
      "cell_type": "code",
      "source": [
        "import matplotlib.pyplot as plt\n",
        "import numpy as np\n",
        "\n",
        "# Define X and Y variable data\n",
        "x = np.array([20000, 23000, 33500, 43500, 50000,\n",
        "              52000, 57000, 72500, 74000, 75000, 79000,\n",
        "              80000, 84500, 107500, 108000, 132500, 134000, 149000])\n",
        "y = x*2\n",
        "\n",
        "plt.plot(x, y)\n",
        "plt.xlabel(\"X-axis\") # add X-axis label\n",
        "plt.ylabel(\"Y-axis\") # add Y-axis label\n",
        "plt.title(\"Annual Salary\") # add title\n",
        "plt.show()\n"
      ],
      "metadata": {
        "colab": {
          "base_uri": "https://localhost:8080/",
          "height": 472
        },
        "id": "GytHuEhkHDKB",
        "outputId": "8ad4119e-4c01-40c6-c3cc-5c5046516925"
      },
      "execution_count": null,
      "outputs": [
        {
          "output_type": "display_data",
          "data": {
            "text/plain": [
              "<Figure size 640x480 with 1 Axes>"
            ],
            "image/png": "[encoded data removed]"
          },
          "metadata": {}
        }
      ]
    },
    {
      "cell_type": "markdown",
      "source": [
        "**Kolom \"AnnualSalary\": Box plot atau line chart dapat digunakan untuk memvisualisasikan distribusi atau tren gaji tahunan dalam dataset. Box plot cocok untuk melihat kuartil, rentang, dan outlier dalam distribusi gaji, sementara line chart cocok untuk melihat tren gaji dari waktu ke waktu.**"
      ],
      "metadata": {
        "id": "bc6VjRYsIzUq"
      }
    },
    {
      "cell_type": "code",
      "source": [
        "# IMPORT LIBRARIES\n",
        "import numpy as np\n",
        "import matplotlib.pyplot as plt\n",
        "\n",
        "\n",
        "# DATASET\n",
        "Purchased = ['YES', 'NO']\n",
        "\n",
        "data = [7, 13]\n",
        "\n",
        "\n",
        "# EXPLOTE DATA\n",
        "explode = (0.1, 0.0)\n",
        "\n",
        "# COLORS PARAMATERS\n",
        "colors = ( \"brown\", \"beige\")\n",
        "\n",
        "# WEDGE PROPERTIES\n",
        "wp = { 'linewidth' : 1, 'edgecolor' : \"green\" }\n",
        "\n",
        "# AUTOCPT ARGUMENTS\n",
        "def func(pct, allvalues):\n",
        "\tabsolute = int(pct / 100.*np.sum(allvalues))\n",
        "\treturn \"{:.1f}%\\n({:d} g)\".format(pct, absolute)\n",
        "\n",
        "# MEMBUAT PLOT\n",
        "fig, ax = plt.subplots(figsize =(10, 7))\n",
        "wedges, texts, autotexts = ax.pie(data,\n",
        "\t\t\t\t\t\t\t\tautopct = lambda pct: func(pct, data),\n",
        "\t\t\t\t\t\t\t\texplode = explode,\n",
        "\t\t\t\t\t\t\t\tlabels = Purchased,\n",
        "\t\t\t\t\t\t\t\tshadow = True,\n",
        "\t\t\t\t\t\t\t\tcolors = colors,\n",
        "\t\t\t\t\t\t\t\tstartangle = 90,\n",
        "\t\t\t\t\t\t\t\twedgeprops = wp,\n",
        "\t\t\t\t\t\t\t\ttextprops = dict(color =\"magenta\"))\n",
        "\n",
        "# ADDING LEGEND\n",
        "ax.legend(wedges, Purchased,\n",
        "\t\ttitle =\"Purchased\",\n",
        "\t\tloc =\"center left\",\n",
        "\t\tbbox_to_anchor =(1, 0, 0.5, 1))\n",
        "\n",
        "plt.setp(autotexts, size = 8, weight =\"bold\")\n",
        "ax.set_title(\"PURCHASED PIE CHART\")\n",
        "\n",
        "# SHOW\n",
        "plt.show()\n"
      ],
      "metadata": {
        "colab": {
          "base_uri": "https://localhost:8080/",
          "height": 598
        },
        "id": "SdWQMOobI0es",
        "outputId": "18b1209e-2d08-405f-a258-17d22dded23f"
      },
      "execution_count": null,
      "outputs": [
        {
          "output_type": "display_data",
          "data": {
            "text/plain": [
              "<Figure size 1000x700 with 1 Axes>"
            ],
            "image/png": "[encoded data removed]"
          },
          "metadata": {}
        }
      ]
    },
    {
      "cell_type": "markdown",
      "source": [
        "**Kolom \"Purchased\": Bar chart atau pie chart dapat digunakan untuk memvisualisasikan jumlah pembelian atau proporsi individu yang melakukan pembelian. Bar chart cocok jika ingin mengetahui jumlah pembelian berdasarkan kategori tertentu, seperti jenis produk atau waktu, sementara pie chart cocok jika ingin mengetahui proporsi pembelian dalam dua kategori atau lebih.**"
      ],
      "metadata": {
        "id": "RaPGmHD3J3XJ"
      }
    },
    {
      "cell_type": "markdown",
      "source": [
        "KNN"
      ],
      "metadata": {
        "id": "Zc0LZfnLeAUU"
      }
    },
    {
      "cell_type": "code",
      "source": [
        "# Import necessary modules\n",
        "from sklearn.neighbors import KNeighborsClassifier\n",
        "from sklearn.model_selection import train_test_split\n",
        "from sklearn.datasets import load_iris\n",
        "\n",
        "# Loading data\n",
        "irisData = load_iris()\n",
        "\n",
        "# Create feature and target arrays\n",
        "X = irisData.data\n",
        "y = irisData.target\n",
        "\n",
        "# Split into training and test set\n",
        "X_train, X_test, y_train, y_test = train_test_split(\n",
        "\t\t\tX, y, test_size = 0.2, random_state=42)\n",
        "\n",
        "knn = KNeighborsClassifier(n_neighbors=7)\n",
        "\n",
        "knn.fit(X_train, y_train)\n",
        "\n",
        "# Predict on dataset which model has not seen before\n",
        "print(knn.predict(X_test))\n"
      ],
      "metadata": {
        "colab": {
          "base_uri": "https://localhost:8080/"
        },
        "id": "44G7aas6dpL0",
        "outputId": "18a53377-a872-48e5-b37b-1371321772e9"
      },
      "execution_count": null,
      "outputs": [
        {
          "output_type": "stream",
          "name": "stdout",
          "text": [
            "[1 0 2 1 1 0 1 2 2 1 2 0 0 0 0 1 2 1 1 2 0 2 0 2 2 2 2 2 0 0]\n"
          ]
        }
      ]
    },
    {
      "cell_type": "markdown",
      "source": [
        "**SPLITTING DATASET**"
      ],
      "metadata": {
        "id": "EvzkQTLUdDOM"
      }
    },
    {
      "cell_type": "code",
      "source": [
        "# import modules\n",
        "import pandas as pd\n",
        "from sklearn.linear_model import LinearRegression\n",
        "from sklearn.model_selection import train_test_split\n",
        " \n",
        "# read the dataset\n",
        "df = pd.read_excel('data_uts.xlsx')\n",
        " \n",
        "# get the locations\n",
        "X = df.iloc[:, :-1]\n",
        "y = df.iloc[:, -1]\n",
        " \n",
        "# split the dataset\n",
        "X_train, X_test, y_train, y_test = train_test_split(\n",
        "    X, y, test_size=0.05, random_state=0)"
      ],
      "metadata": {
        "id": "q8sXBMsLdFK5"
      },
      "execution_count": null,
      "outputs": []
    },
    {
      "cell_type": "code",
      "source": [
        "X_train"
      ],
      "metadata": {
        "colab": {
          "base_uri": "https://localhost:8080/"
        },
        "id": "u0fu5z4heGZk",
        "outputId": "bd3bd464-1699-4b4c-b86f-92f867c7fd32"
      },
      "execution_count": null,
      "outputs": [
        {
          "output_type": "execute_result",
          "data": {
            "text/plain": [
              "array([[4.6, 3.6, 1. , 0.2],\n",
              "       [5.7, 4.4, 1.5, 0.4],\n",
              "       [6.7, 3.1, 4.4, 1.4],\n",
              "       [4.8, 3.4, 1.6, 0.2],\n",
              "       [4.4, 3.2, 1.3, 0.2],\n",
              "       [6.3, 2.5, 5. , 1.9],\n",
              "       [6.4, 3.2, 4.5, 1.5],\n",
              "       [5.2, 3.5, 1.5, 0.2],\n",
              "       [5. , 3.6, 1.4, 0.2],\n",
              "       [5.2, 4.1, 1.5, 0.1],\n",
              "       [5.8, 2.7, 5.1, 1.9],\n",
              "       [6. , 3.4, 4.5, 1.6],\n",
              "       [6.7, 3.1, 4.7, 1.5],\n",
              "       [5.4, 3.9, 1.3, 0.4],\n",
              "       [5.4, 3.7, 1.5, 0.2],\n",
              "       [5.5, 2.4, 3.7, 1. ],\n",
              "       [6.3, 2.8, 5.1, 1.5],\n",
              "       [6.4, 3.1, 5.5, 1.8],\n",
              "       [6.6, 3. , 4.4, 1.4],\n",
              "       [7.2, 3.6, 6.1, 2.5],\n",
              "       [5.7, 2.9, 4.2, 1.3],\n",
              "       [7.6, 3. , 6.6, 2.1],\n",
              "       [5.6, 3. , 4.5, 1.5],\n",
              "       [5.1, 3.5, 1.4, 0.2],\n",
              "       [7.7, 2.8, 6.7, 2. ],\n",
              "       [5.8, 2.7, 4.1, 1. ],\n",
              "       [5.2, 3.4, 1.4, 0.2],\n",
              "       [5. , 3.5, 1.3, 0.3],\n",
              "       [5.1, 3.8, 1.9, 0.4],\n",
              "       [5. , 2. , 3.5, 1. ],\n",
              "       [6.3, 2.7, 4.9, 1.8],\n",
              "       [4.8, 3.4, 1.9, 0.2],\n",
              "       [5. , 3. , 1.6, 0.2],\n",
              "       [5.1, 3.3, 1.7, 0.5],\n",
              "       [5.6, 2.7, 4.2, 1.3],\n",
              "       [5.1, 3.4, 1.5, 0.2],\n",
              "       [5.7, 3. , 4.2, 1.2],\n",
              "       [7.7, 3.8, 6.7, 2.2],\n",
              "       [4.6, 3.2, 1.4, 0.2],\n",
              "       [6.2, 2.9, 4.3, 1.3],\n",
              "       [5.7, 2.5, 5. , 2. ],\n",
              "       [5.5, 4.2, 1.4, 0.2],\n",
              "       [6. , 3. , 4.8, 1.8],\n",
              "       [5.8, 2.7, 5.1, 1.9],\n",
              "       [6. , 2.2, 4. , 1. ],\n",
              "       [5.4, 3. , 4.5, 1.5],\n",
              "       [6.2, 3.4, 5.4, 2.3],\n",
              "       [5.5, 2.3, 4. , 1.3],\n",
              "       [5.4, 3.9, 1.7, 0.4],\n",
              "       [5. , 2.3, 3.3, 1. ],\n",
              "       [6.4, 2.7, 5.3, 1.9],\n",
              "       [5. , 3.3, 1.4, 0.2],\n",
              "       [5. , 3.2, 1.2, 0.2],\n",
              "       [5.5, 2.4, 3.8, 1.1],\n",
              "       [6.7, 3. , 5. , 1.7],\n",
              "       [4.9, 3.1, 1.5, 0.2],\n",
              "       [5.8, 2.8, 5.1, 2.4],\n",
              "       [5. , 3.4, 1.5, 0.2],\n",
              "       [5. , 3.5, 1.6, 0.6],\n",
              "       [5.9, 3.2, 4.8, 1.8],\n",
              "       [5.1, 2.5, 3. , 1.1],\n",
              "       [6.9, 3.2, 5.7, 2.3],\n",
              "       [6. , 2.7, 5.1, 1.6],\n",
              "       [6.1, 2.6, 5.6, 1.4],\n",
              "       [7.7, 3. , 6.1, 2.3],\n",
              "       [5.5, 2.5, 4. , 1.3],\n",
              "       [4.4, 2.9, 1.4, 0.2],\n",
              "       [4.3, 3. , 1.1, 0.1],\n",
              "       [6. , 2.2, 5. , 1.5],\n",
              "       [7.2, 3.2, 6. , 1.8],\n",
              "       [4.6, 3.1, 1.5, 0.2],\n",
              "       [5.1, 3.5, 1.4, 0.3],\n",
              "       [4.4, 3. , 1.3, 0.2],\n",
              "       [6.3, 2.5, 4.9, 1.5],\n",
              "       [6.3, 3.4, 5.6, 2.4],\n",
              "       [4.6, 3.4, 1.4, 0.3],\n",
              "       [6.8, 3. , 5.5, 2.1],\n",
              "       [6.3, 3.3, 6. , 2.5],\n",
              "       [4.7, 3.2, 1.3, 0.2],\n",
              "       [6.1, 2.9, 4.7, 1.4],\n",
              "       [6.5, 2.8, 4.6, 1.5],\n",
              "       [6.2, 2.8, 4.8, 1.8],\n",
              "       [7. , 3.2, 4.7, 1.4],\n",
              "       [6.4, 3.2, 5.3, 2.3],\n",
              "       [5.1, 3.8, 1.6, 0.2],\n",
              "       [6.9, 3.1, 5.4, 2.1],\n",
              "       [5.9, 3. , 4.2, 1.5],\n",
              "       [6.5, 3. , 5.2, 2. ],\n",
              "       [5.7, 2.6, 3.5, 1. ],\n",
              "       [5.2, 2.7, 3.9, 1.4],\n",
              "       [6.1, 3. , 4.6, 1.4],\n",
              "       [4.5, 2.3, 1.3, 0.3],\n",
              "       [6.6, 2.9, 4.6, 1.3],\n",
              "       [5.5, 2.6, 4.4, 1.2],\n",
              "       [5.3, 3.7, 1.5, 0.2],\n",
              "       [5.6, 3. , 4.1, 1.3],\n",
              "       [7.3, 2.9, 6.3, 1.8],\n",
              "       [6.7, 3.3, 5.7, 2.1],\n",
              "       [5.1, 3.7, 1.5, 0.4],\n",
              "       [4.9, 2.4, 3.3, 1. ],\n",
              "       [6.7, 3.3, 5.7, 2.5],\n",
              "       [7.2, 3. , 5.8, 1.6],\n",
              "       [4.9, 3.6, 1.4, 0.1],\n",
              "       [6.7, 3.1, 5.6, 2.4],\n",
              "       [4.9, 3. , 1.4, 0.2],\n",
              "       [6.9, 3.1, 4.9, 1.5],\n",
              "       [7.4, 2.8, 6.1, 1.9],\n",
              "       [6.3, 2.9, 5.6, 1.8],\n",
              "       [5.7, 2.8, 4.1, 1.3],\n",
              "       [6.5, 3. , 5.5, 1.8],\n",
              "       [6.3, 2.3, 4.4, 1.3],\n",
              "       [6.4, 2.9, 4.3, 1.3],\n",
              "       [5.6, 2.8, 4.9, 2. ],\n",
              "       [5.9, 3. , 5.1, 1.8],\n",
              "       [5.4, 3.4, 1.7, 0.2],\n",
              "       [6.1, 2.8, 4. , 1.3],\n",
              "       [4.9, 2.5, 4.5, 1.7],\n",
              "       [5.8, 4. , 1.2, 0.2],\n",
              "       [5.8, 2.6, 4. , 1.2],\n",
              "       [7.1, 3. , 5.9, 2.1]])"
            ]
          },
          "metadata": {},
          "execution_count": 26
        }
      ]
    },
    {
      "cell_type": "code",
      "source": [
        "X_test"
      ],
      "metadata": {
        "colab": {
          "base_uri": "https://localhost:8080/"
        },
        "id": "TQFgJj6EeG2R",
        "outputId": "86f57f74-e9ad-469f-910f-0fbde2855385"
      },
      "execution_count": null,
      "outputs": [
        {
          "output_type": "execute_result",
          "data": {
            "text/plain": [
              "array([[6.1, 2.8, 4.7, 1.2],\n",
              "       [5.7, 3.8, 1.7, 0.3],\n",
              "       [7.7, 2.6, 6.9, 2.3],\n",
              "       [6. , 2.9, 4.5, 1.5],\n",
              "       [6.8, 2.8, 4.8, 1.4],\n",
              "       [5.4, 3.4, 1.5, 0.4],\n",
              "       [5.6, 2.9, 3.6, 1.3],\n",
              "       [6.9, 3.1, 5.1, 2.3],\n",
              "       [6.2, 2.2, 4.5, 1.5],\n",
              "       [5.8, 2.7, 3.9, 1.2],\n",
              "       [6.5, 3.2, 5.1, 2. ],\n",
              "       [4.8, 3. , 1.4, 0.1],\n",
              "       [5.5, 3.5, 1.3, 0.2],\n",
              "       [4.9, 3.1, 1.5, 0.1],\n",
              "       [5.1, 3.8, 1.5, 0.3],\n",
              "       [6.3, 3.3, 4.7, 1.6],\n",
              "       [6.5, 3. , 5.8, 2.2],\n",
              "       [5.6, 2.5, 3.9, 1.1],\n",
              "       [5.7, 2.8, 4.5, 1.3],\n",
              "       [6.4, 2.8, 5.6, 2.2],\n",
              "       [4.7, 3.2, 1.6, 0.2],\n",
              "       [6.1, 3. , 4.9, 1.8],\n",
              "       [5. , 3.4, 1.6, 0.4],\n",
              "       [6.4, 2.8, 5.6, 2.1],\n",
              "       [7.9, 3.8, 6.4, 2. ],\n",
              "       [6.7, 3. , 5.2, 2.3],\n",
              "       [6.7, 2.5, 5.8, 1.8],\n",
              "       [6.8, 3.2, 5.9, 2.3],\n",
              "       [4.8, 3. , 1.4, 0.3],\n",
              "       [4.8, 3.1, 1.6, 0.2]])"
            ]
          },
          "metadata": {},
          "execution_count": 27
        }
      ]
    },
    {
      "cell_type": "markdown",
      "source": [
        "**MODELLING**"
      ],
      "metadata": {
        "id": "yFt3z4WweU4W"
      }
    },
    {
      "cell_type": "code",
      "source": [
        "from sklearn.neighbors import KNeighborsClassifier\n",
        "k=4\n",
        "#Train Model and Predict\n",
        "knn = KNeighborsClassifier(n_neighbors = k).fit(X_train,y_train)"
      ],
      "metadata": {
        "id": "wNZE5eBleXNu"
      },
      "execution_count": null,
      "outputs": []
    },
    {
      "cell_type": "code",
      "source": [
        "y_test"
      ],
      "metadata": {
        "colab": {
          "base_uri": "https://localhost:8080/"
        },
        "id": "dx4wFr7Neabu",
        "outputId": "16e603e9-3431-427b-98cf-928cca5b5543"
      },
      "execution_count": null,
      "outputs": [
        {
          "output_type": "execute_result",
          "data": {
            "text/plain": [
              "array([1, 1, 1, 0, 0, 1, 1, 0, 1, 1, 1, 0, 0, 0, 0, 1, 0, 0, 1, 1, 0, 0,\n",
              "       1, 0, 0])"
            ]
          },
          "metadata": {},
          "execution_count": 49
        }
      ]
    },
    {
      "cell_type": "code",
      "source": [
        "y_train"
      ],
      "metadata": {
        "colab": {
          "base_uri": "https://localhost:8080/"
        },
        "id": "q60VVs0vfAMN",
        "outputId": "78750ee0-06d1-402e-f69c-441e34cdbf56"
      },
      "execution_count": null,
      "outputs": [
        {
          "output_type": "execute_result",
          "data": {
            "text/plain": [
              "array([0, 0, 0, 0, 0, 0, 0, 1, 0, 1, 1, 0, 0, 0, 1, 0, 1, 1, 0, 1, 1, 1,\n",
              "       1, 1, 0, 0, 0, 0, 1, 0, 1, 0, 1, 0, 0, 0, 0, 1, 0, 0, 0, 0, 0, 1,\n",
              "       1, 1, 1, 1, 1, 1, 0, 1, 0, 1, 1, 1, 1, 0, 1, 0, 1, 1, 1, 0, 1, 1,\n",
              "       0, 1, 1, 1, 1, 1, 0, 0, 0])"
            ]
          },
          "metadata": {},
          "execution_count": 50
        }
      ]
    },
    {
      "cell_type": "code",
      "source": [
        "from sklearn import metrics\n",
        "\n",
        "y_predict = knn.predict(X_test)\n",
        "print(y_predict)"
      ],
      "metadata": {
        "colab": {
          "base_uri": "https://localhost:8080/"
        },
        "id": "bFeW2aB_fDWz",
        "outputId": "e814210d-2e75-4cc6-c80a-f320d3045714"
      },
      "execution_count": null,
      "outputs": [
        {
          "output_type": "stream",
          "name": "stdout",
          "text": [
            "[1 0 0 0 0 0 1 0 0 0 1 0 0 1 0 1 0 0 1 1 1 0 0 0 0]\n"
          ]
        }
      ]
    },
    {
      "cell_type": "code",
      "source": [
        "print(\"Test set Accuracy: \", metrics.accuracy_score(y_test, y_predict))"
      ],
      "metadata": {
        "colab": {
          "base_uri": "https://localhost:8080/"
        },
        "id": "qZCo7d26fGI_",
        "outputId": "a0b1647c-e01d-480e-e3bb-be8479641e6e"
      },
      "execution_count": null,
      "outputs": [
        {
          "output_type": "stream",
          "name": "stdout",
          "text": [
            "Test set Accuracy:  0.68\n"
          ]
        }
      ]
    },
    {
      "cell_type": "code",
      "source": [
        "import matplotlib.pyplot as plt\n",
        "from sklearn.datasets import make_classification\n",
        "from sklearn.metrics import confusion_matrix, ConfusionMatrixDisplay\n",
        "from sklearn.model_selection import train_test_split\n",
        "from sklearn.svm import SVC\n",
        "X, y = make_classification(random_state=0)\n",
        "X_train, X_test, y_train, y_test = train_test_split(X, y,\n",
        "                                                    random_state=0)\n",
        "clf = SVC(random_state=0)\n",
        "clf.fit(X_train, y_train)\n",
        "SVC(random_state=0)\n",
        "predictions = clf.predict(X_test)\n",
        "cm = confusion_matrix(y_test, predictions, labels=clf.classes_)\n",
        "disp = ConfusionMatrixDisplay(confusion_matrix=cm,\n",
        "                               display_labels=clf.classes_)\n",
        "disp.plot()\n",
        "plt.show()"
      ],
      "metadata": {
        "colab": {
          "base_uri": "https://localhost:8080/",
          "height": 455
        },
        "id": "7mBjkkWygfTY",
        "outputId": "91130c87-52bd-4450-e97b-82f1aa2aa39d"
      },
      "execution_count": null,
      "outputs": [
        {
          "output_type": "display_data",
          "data": {
            "text/plain": [
              "<Figure size 640x480 with 2 Axes>"
            ],
            "image/png": "[encoded data removed]"
          },
          "metadata": {}
        }
      ]
    }
  ]
}